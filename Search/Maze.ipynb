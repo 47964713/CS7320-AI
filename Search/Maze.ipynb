{
 "cells": [
  {
   "cell_type": "markdown",
   "metadata": {},
   "source": [
    "# Search: Path finding\n",
    "\n",
    "To goal is to find a path through a maze from a given start state $S$ to a given goal state $G$. Here is a small\n",
    "example maze:\n",
    "\n",
    "```\n",
    "XXXXXXX\n",
    "XSXGX X\n",
    "X X   X\n",
    "X XX  X\n",
    "X     X\n",
    "XXXXXXX\n",
    "```\n",
    "\n",
    "Implement the following search algorithms for solving different mazes:\n",
    "\n",
    "* Depth-first search\n",
    "* Breadth-first search\n",
    "* Greedy best-first search\n",
    "* A* search (using Manhattan distance from the current position to the goal as the heuristic function)\n",
    "\n",
    "Run each of the above algorithms on the small maze, medium maze, big maze, and the open maze. For each problem instance and each search algorithm, report the following:\n",
    "\n",
    "* The solution and its path cost\n",
    "* Number of nodes expanded\n",
    "* Maximum tree depth searched\n",
    "* Maximum size of the frontier.\n",
    "\n",
    "You can display the solution by putting a `.` in every maze square visited on the path and a `*` for the squares on the final path."
   ]
  },
  {
   "cell_type": "code",
   "execution_count": null,
   "metadata": {},
   "outputs": [],
   "source": []
  }
 ],
 "metadata": {
  "kernelspec": {
   "display_name": "Python 3",
   "language": "python",
   "name": "python3"
  },
  "language_info": {
   "codemirror_mode": {
    "name": "ipython",
    "version": 3
   },
   "file_extension": ".py",
   "mimetype": "text/x-python",
   "name": "python",
   "nbconvert_exporter": "python",
   "pygments_lexer": "ipython3",
   "version": "3.8.5"
  }
 },
 "nbformat": 4,
 "nbformat_minor": 4
}
