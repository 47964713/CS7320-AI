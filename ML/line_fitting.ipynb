{
 "cells": [
  {
   "cell_type": "markdown",
   "metadata": {
    "lines_to_next_cell": 0
   },
   "source": [
    "# Line fitting\n",
    "\n",
    "Model function $h_w(x) = w_1 x + w_0$ calculates $\\hat{y}$"
   ]
  },
  {
   "cell_type": "code",
   "execution_count": null,
   "metadata": {},
   "outputs": [],
   "source": [
    "y_hat <- function(x, w0, w1) w1 * x + w0"
   ]
  },
  {
   "cell_type": "markdown",
   "metadata": {
    "lines_to_next_cell": 0
   },
   "source": [
    "Used loss function $L(h_w) = \\sum_{j=2}^N (y_j - h_w(x_j))$"
   ]
  },
  {
   "cell_type": "code",
   "execution_count": null,
   "metadata": {},
   "outputs": [],
   "source": [
    "L2 <- function(y, y_hat) sum((y - y_hat)^2)"
   ]
  },
  {
   "cell_type": "markdown",
   "metadata": {
    "lines_to_next_cell": 0
   },
   "source": [
    "## Simulate some data with noise"
   ]
  },
  {
   "cell_type": "code",
   "execution_count": null,
   "metadata": {},
   "outputs": [],
   "source": [
    "N <- 100\n",
    "real_w0 <- 3\n",
    "real_w1 <- 7"
   ]
  },
  {
   "cell_type": "code",
   "execution_count": null,
   "metadata": {},
   "outputs": [],
   "source": [
    "x <- runif(N, 0, 1)\n",
    "y <-  y_hat(x, real_w0, real_w1) + rnorm(N, sd = 1)"
   ]
  },
  {
   "cell_type": "code",
   "execution_count": null,
   "metadata": {},
   "outputs": [],
   "source": [
    "xy <- data.frame(x, y)\n",
    "head(xy)"
   ]
  },
  {
   "cell_type": "code",
   "execution_count": null,
   "metadata": {},
   "outputs": [],
   "source": [
    "plot(xy)\n",
    "abline(a = real_w0, b = real_w1, col = \"green\")"
   ]
  },
  {
   "cell_type": "markdown",
   "metadata": {
    "lines_to_next_cell": 0
   },
   "source": [
    "## Visualize the loss function\n",
    "\n",
    "Create a grid of w0 and w1 values"
   ]
  },
  {
   "cell_type": "code",
   "execution_count": null,
   "metadata": {},
   "outputs": [],
   "source": [
    "resolution <- 25\n",
    "grid <- data.frame(\n",
    "  w0 = rep(seq(0, 10, length.out = resolution), times = resolution),\n",
    "  w1 = rep(seq(0, 10, length.out = resolution), each = resolution)\n",
    ")"
   ]
  },
  {
   "cell_type": "code",
   "execution_count": null,
   "metadata": {},
   "outputs": [],
   "source": [
    "grid$L2 <- with(xy, \n",
    "  apply(grid, MARGIN = 1, FUN = function(w) \n",
    "    L2(y, y_hat(x, w[\"w0\"], w[\"w1\"]))\n",
    "  )\n",
    ")"
   ]
  },
  {
   "cell_type": "markdown",
   "metadata": {
    "lines_to_next_cell": 0
   },
   "source": [
    "Find minimum grid cell"
   ]
  },
  {
   "cell_type": "code",
   "execution_count": null,
   "metadata": {},
   "outputs": [],
   "source": [
    "opt <- grid[which.min(grid$L2), ]\n",
    "opt"
   ]
  },
  {
   "cell_type": "markdown",
   "metadata": {
    "lines_to_next_cell": 0
   },
   "source": [
    "Plot loss function surface"
   ]
  },
  {
   "cell_type": "code",
   "execution_count": null,
   "metadata": {},
   "outputs": [],
   "source": [
    "pmat <- persp(matrix(grid$L2, nrow = resolution), \n",
    "  xlab = \"w0\", ylab = \"w1\", zlab = \"loss\")\n",
    "points(\n",
    "  trans3d(\n",
    "    x = opt[,\"w0\"]/max(grid[,\"w0\"]), \n",
    "    y = opt[,\"w1\"]/max(grid[,\"w1\"]), \n",
    "    z = opt[,\"L2\"], \n",
    "    pmat = pmat), \n",
    "  col = \"red\", lwd = 2)"
   ]
  },
  {
   "cell_type": "markdown",
   "metadata": {
    "lines_to_next_cell": 0
   },
   "source": [
    "plot regression line"
   ]
  },
  {
   "cell_type": "code",
   "execution_count": null,
   "metadata": {},
   "outputs": [],
   "source": [
    "plot(xy)\n",
    "abline(a = real_w0, b = real_w1, col = \"green\")\n",
    "abline(a = opt[,\"w0\"], b = opt[,\"w1\"], col = \"red\")"
   ]
  },
  {
   "cell_type": "markdown",
   "metadata": {},
   "source": [
    "## Analytic solution\n",
    "\n",
    "Loss is minimized at:\n",
    "\n",
    "$w_1 = \\frac{N(\\sum x_j y_j) - (\\sum x_j)(\\sum y_j)}{N(\\sum x_j^2) - (\\sum x_j)^2}$\n",
    "\n",
    "$w_0 = \\frac{\\sum y_j - w_1 (\\sum x_j)}{N}$"
   ]
  },
  {
   "cell_type": "code",
   "execution_count": null,
   "metadata": {},
   "outputs": [],
   "source": [
    "w1 <- with(xy, (N * sum(x*y) - sum(x)*sum(y)) / (N * sum(x^2) - sum(x)^2))\n",
    "w1"
   ]
  },
  {
   "cell_type": "code",
   "execution_count": null,
   "metadata": {},
   "outputs": [],
   "source": [
    "w0 <- with(xy, (sum(y) - w1 * sum(x)) / N)\n",
    "w0"
   ]
  },
  {
   "cell_type": "code",
   "execution_count": null,
   "metadata": {},
   "outputs": [],
   "source": [
    "plot(xy)\n",
    "abline(a = real_w0, b = real_w1, col = \"green\")\n",
    "abline(a = w0, b = w1, col = \"red\")"
   ]
  },
  {
   "cell_type": "markdown",
   "metadata": {},
   "source": [
    "## Gradient descent"
   ]
  },
  {
   "cell_type": "markdown",
   "metadata": {},
   "source": [
    "### Batch gradient descent"
   ]
  },
  {
   "cell_type": "code",
   "execution_count": null,
   "metadata": {},
   "outputs": [],
   "source": [
    "line_BGD <- function(xy, alpha = 0.001, eps = 1e-6) {\n",
    "  \n",
    "  #' start with some points from the parameter space\n",
    "  w0 <- 0\n",
    "  w1 <- 0\n",
    "  \n",
    "  # we use loss improvement > eps to check for convergence\n",
    "  step <- 0\n",
    "  improvement <- Inf\n",
    "  loss <- L2(xy$y, y_hat(xy$x, w0, w1))\n",
    "  \n",
    "  history <- data.frame(w0, w1, loss)\n",
    "  #' update weights\n",
    "  while (improvement > eps) {\n",
    "    old_loss <- loss\n",
    "    step <- step + 1\n",
    "    \n",
    "    w0 <- with(xy, w0 + alpha * sum(y - y_hat(x, w0, w1)))\n",
    "    w1 <- with(xy, w1 + alpha * sum((y - y_hat(x, w0, w1)) * x))\n",
    "    \n",
    "    loss <- L2(xy$y, y_hat(xy$x, w0, w1))\n",
    "    improvement <- old_loss - loss\n",
    "  \n",
    "    history <- rbind(history, data.frame(w0, w1, loss))\n",
    "  }\n",
    "  list(w = c(w0 = w0, w1 = w1), history = history)\n",
    "}"
   ]
  },
  {
   "cell_type": "code",
   "execution_count": null,
   "metadata": {},
   "outputs": [],
   "source": [
    "w <- line_BGD(xy) \n",
    "w$w"
   ]
  },
  {
   "cell_type": "markdown",
   "metadata": {
    "lines_to_next_cell": 0
   },
   "source": [
    "Learning curve"
   ]
  },
  {
   "cell_type": "code",
   "execution_count": null,
   "metadata": {},
   "outputs": [],
   "source": [
    "plot(w$history$loss, type = \"l\", xlab = \"steps\", ylab = \"loss\")"
   ]
  },
  {
   "cell_type": "markdown",
   "metadata": {
    "lines_to_next_cell": 0
   },
   "source": [
    "Learning path"
   ]
  },
  {
   "cell_type": "code",
   "execution_count": null,
   "metadata": {
    "lines_to_next_cell": 2
   },
   "outputs": [],
   "source": [
    "pmat <- persp(matrix(grid$L2, nrow = resolution), \n",
    "  xlab = \"w0\", ylab = \"w1\", zlab = \"loss\")\n",
    "lines(\n",
    "  trans3d(\n",
    "    x = w$history[,\"w0\"]/max(grid[,\"w0\"]), \n",
    "    y = w$history[,\"w1\"]/max(grid[,\"w1\"]), \n",
    "    z = w$history[,\"loss\"], \n",
    "    pmat = pmat), \n",
    "  col = \"red\", lwd = 2)"
   ]
  },
  {
   "cell_type": "code",
   "execution_count": null,
   "metadata": {
    "lines_to_next_cell": 2
   },
   "outputs": [],
   "source": [
    "plot(xy)\n",
    "abline(a = real_w0, b = real_w1, col = \"green\")\n",
    "abline(a = w$w[\"w0\"], b = w$w[\"w1\"], col = \"red\")"
   ]
  },
  {
   "cell_type": "markdown",
   "metadata": {
    "lines_to_next_cell": 0
   },
   "source": [
    "### SGD with minibatch\n",
    "\n",
    " Convergence is a problem since loss on all the data can increase.\n",
    " I use for convergence a number of tries with a loss improvement less than eps. I also reduce alpha over time using $\\alpha/t^\\delta$ for better convergence. "
   ]
  },
  {
   "cell_type": "code",
   "execution_count": null,
   "metadata": {},
   "outputs": [],
   "source": [
    "line_SGD <- function(xy, alpha = 0.001, delta = 1e-6, eps = 1e-6, \n",
    "  tries = 10, batch_size = 10) {\n",
    "  \n",
    "  #' start with some points from the parameter space\n",
    "  w0 <- 0\n",
    "  w1 <- 0\n",
    "  \n",
    "  # we use loss improvement > eps to check for convergence\n",
    "  step <- 0\n",
    "  improvements <- 0\n",
    "  loss <- L2(xy$y, y_hat(xy$x, w0, w1))\n",
    "  \n",
    "  history <- data.frame(w0, w1, loss)\n",
    "  \n",
    "  #' update weights\n",
    "  while (improvements < tries) {\n",
    "    old_loss <- loss\n",
    "    step <- step + 1\n",
    "    \n",
    "    mb <- xy[sample(nrow(xy), size = batch_size),]\n",
    "    w0 <- with(mb, w0 + alpha/step^delta * sum(y - y_hat(x, w0, w1)))\n",
    "    w1 <- with(mb, w1 + alpha/step^delta * sum((y - y_hat(x, w0, w1)) * x))\n",
    "    \n",
    "    loss <- L2(xy$y, y_hat(xy$x, w0, w1))\n",
    "    improvement <- old_loss - loss\n",
    "    if(improvement < eps) improvements <- improvements + 1\n",
    "    else improvements <- 0\n",
    "    \n",
    "    history <- rbind(history, data.frame(w0, w1, loss))\n",
    "  }\n",
    "  list(w = c(w0 = w0, w1 = w1), history = history)\n",
    "}"
   ]
  },
  {
   "cell_type": "code",
   "execution_count": null,
   "metadata": {},
   "outputs": [],
   "source": [
    "w <- line_SGD(xy) \n",
    "w$w"
   ]
  },
  {
   "cell_type": "markdown",
   "metadata": {
    "lines_to_next_cell": 0
   },
   "source": [
    "Learning curve"
   ]
  },
  {
   "cell_type": "code",
   "execution_count": null,
   "metadata": {},
   "outputs": [],
   "source": [
    "plot(w$history$loss, type = \"l\", xlab = \"steps\", ylab = \"loss\")"
   ]
  },
  {
   "cell_type": "markdown",
   "metadata": {
    "lines_to_next_cell": 0
   },
   "source": [
    "Learning path"
   ]
  },
  {
   "cell_type": "code",
   "execution_count": null,
   "metadata": {
    "lines_to_next_cell": 2
   },
   "outputs": [],
   "source": [
    "pmat <- persp(matrix(grid$L2, nrow = resolution), \n",
    "  xlab = \"w0\", ylab = \"w1\", zlab = \"loss\")\n",
    "lines(\n",
    "  trans3d(\n",
    "    x = w$history[,\"w0\"]/max(grid[,\"w0\"]), \n",
    "    y = w$history[,\"w1\"]/max(grid[,\"w1\"]), \n",
    "    z = w$history[,\"loss\"], \n",
    "    pmat = pmat), \n",
    "  col = \"red\", lwd = 2)"
   ]
  },
  {
   "cell_type": "code",
   "execution_count": null,
   "metadata": {},
   "outputs": [],
   "source": [
    "plot(xy)\n",
    "abline(a = real_w0, b = real_w1, col = \"green\")\n",
    "abline(a = w$w[\"w0\"], b = w$w[\"w1\"], col = \"red\")"
   ]
  }
 ],
 "metadata": {
  "jupytext": {
   "cell_metadata_filter": "-all",
   "formats": "R:spin,ipynb",
   "notebook_metadata_filter": "-all",
   "text_representation": {
    "extension": ".R",
    "format_name": "spin"
   }
  },
  "kernelspec": {
   "display_name": "R",
   "language": "R",
   "name": "ir"
  },
  "language_info": {
   "codemirror_mode": "r",
   "file_extension": ".r",
   "mimetype": "text/x-r-source",
   "name": "R",
   "pygments_lexer": "r",
   "version": "3.6.3"
  }
 },
 "nbformat": 4,
 "nbformat_minor": 4
}
