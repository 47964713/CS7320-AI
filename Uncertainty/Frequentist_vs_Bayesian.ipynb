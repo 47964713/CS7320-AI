{
 "cells": [
  {
   "cell_type": "markdown",
   "id": "d047776d-8c42-4d05-b667-519a6e0075c1",
   "metadata": {},
   "source": [
    "# Estimating Probabilities using Frequentist vs. Bayesian Inference: Coin Toss\n",
    "\n",
    "\n",
    "We want to determine if a coin is fair using a sequence of observed coin tosses. \n",
    "The coin can show H (head) and T (tail). We use $P(H)$ to represent the probability that the coin lands head up and $P(T)$ \n",
    "for the probability that the coin lands tail up. We call the true $P(H)$ the parameter $\\theta$ which also means that\n",
    "$P(T) = 1 - \\theta$. A fair coin would show on average 50\\% head, i.e., it would have $\\theta = .5$. \n",
    "\n",
    "Let's assume we have a slightly unfair coin with $\\theta = 0.6$, but this is unknown and all we have access to are outcomes of coin tosses. \n",
    "We can use observations to estimate the parameter $\\hat{\\theta}$ and then detemine if it is (close to) $.5$."
   ]
  },
  {
   "cell_type": "code",
   "execution_count": 1,
   "id": "fa6f007a-469e-4639-8392-d498b43e9ba0",
   "metadata": {},
   "outputs": [
    {
     "data": {
      "text/plain": [
       "array([1, 0, 1, 0, 0, 1, 1, 0, 0, 0, 1, 1, 0, 0, 1, 1, 1, 1, 0, 0, 1, 0,\n",
       "       1, 1, 0, 0, 1, 0, 1, 1, 0, 1, 0, 1, 0, 0, 1, 0, 1, 0, 1, 1, 1, 0,\n",
       "       1, 1, 1, 1, 1, 1, 1, 0, 1, 1, 0, 0, 0, 0, 0, 0, 1, 0, 1, 1, 1, 1,\n",
       "       1, 0, 1, 1, 0, 1, 1, 1, 1, 0, 1, 1, 1, 1, 1, 0, 0, 0, 0, 1, 0, 0,\n",
       "       0, 1, 1, 1, 1, 0, 1, 1, 1, 0, 1, 0])"
      ]
     },
     "execution_count": 1,
     "metadata": {},
     "output_type": "execute_result"
    }
   ],
   "source": [
    "import numpy as np\n",
    "np.random.seed(1234)\n",
    "\n",
    "theta = 0.6\n",
    "n = 100\n",
    "\n",
    "tosses = np.random.choice([1, 0], size=n, p=[theta, 1-theta])\n",
    "tosses"
   ]
  },
  {
   "cell_type": "markdown",
   "id": "55c75912-b27c-46c3-994c-e1a955d09256",
   "metadata": {},
   "source": [
    "## Frequentist Approach\n",
    "\n",
    "Probabilities are long-run averages estimated from count frequencies: \n",
    "$$\\hat{P}(H) = \\hat{\\theta} = \\frac{n_H}{n}$$"
   ]
  },
  {
   "cell_type": "code",
   "execution_count": 2,
   "id": "5829dafd-29d8-49ef-8dc1-910d697bd311",
   "metadata": {},
   "outputs": [
    {
     "data": {
      "text/plain": [
       "0.58"
      ]
     },
     "execution_count": 2,
     "metadata": {},
     "output_type": "execute_result"
    }
   ],
   "source": [
    "n_H = np.sum(tosses)\n",
    "\n",
    "n_H/n"
   ]
  },
  {
   "cell_type": "markdown",
   "id": "107571ec-f291-42c8-9f8a-4f38816129be",
   "metadata": {},
   "source": [
    "We would conclude that the coin seems to be biased towards heads and we would predict the next toss to be more likely to come out heads.\n",
    "\n",
    "We can look at the frequentist estimate after each coin toss."
   ]
  },
  {
   "cell_type": "code",
   "execution_count": 3,
   "id": "a1259624-e668-45b4-aa8e-7c3d0e7b3a41",
   "metadata": {},
   "outputs": [
    {
     "data": {
      "image/png": "[encoded data removed]",
      "text/plain": [
       "<Figure size 432x288 with 1 Axes>"
      ]
     },
     "metadata": {},
     "output_type": "display_data"
    }
   ],
   "source": [
    "import matplotlib.pyplot as plt\n",
    "import seaborn as sns \n",
    "sns.set(style=\"whitegrid\")\n",
    "\n",
    "ns = np.arange(1, n)\n",
    "thetas = [np.mean(tosses[:i]) for i in ns]\n",
    "plt.plot(ns, thetas, label=\"Estimate $\\\\hat{\\\\theta}$\")\n",
    "plt.xlabel(\"Number of tosses\")\n",
    "plt.ylabel(\"$\\\\theta$\")\n",
    "plt.ylim([0, 1])\n",
    "plt.axhline(y=0.5, color='r', linestyle=\"--\", label=\"Fair Coin\")\n",
    "plt.legend()\n",
    "plt.show()"
   ]
  },
  {
   "cell_type": "markdown",
   "id": "fb815da1-482e-4327-bc32-a6cc3592c4eb",
   "metadata": {},
   "source": [
    "We see that initially, it looks like the coin may be fair, but later on, the estimate tends to a value larger than .5, but how do we know if the coin is unfair?\n",
    "\n",
    "### Confidence Intervals\n",
    "\n",
    "Frequentists use [confidence intervals](https://en.wikipedia.org/wiki/Confidence_interval) to determine a range around the point estimate. A 95\\% confidence interval is defined as:\n",
    "\n",
    "> The confidence level represents the long-run frequency of confidence intervals that contain the true value of the unknown population parameter. In other words, 95% of confidence intervals computed at the 95% confidence level contain the parameter, and likewise for other confidence levels.\n",
    "\n",
    "Applied to coin tosses this means that we observe a single experiment with 100 coin tosses and compute the mean. \n",
    "Then we wonder in what range the means computed for many more experiments would fall. We call the distribution of these experimental means the *sampling distribution.* Given a user-specified *confidence level*  $1 - \\alpha$ of let's say 95%, the *confidence interval* is the range in which 95% of the experimental means fall. Interestingly, we can estimate the confidence interval from data from a single experiment.\n",
    "\n",
    "\n",
    "The most basic confidence interval uses a normal approximation to the sampling distribution (which is a good approximation for larger sample sizes of $n \\ge 30$) and is calculated as:\n",
    "\n",
    "$$\\hat{\\theta} \\pm z\\ \\mathrm{SE}(\\hat{\\theta})$$\n",
    "\n",
    "where $z$ is the critical value at a given confidence level drawn from a standard normal distribution. \n",
    "$\\mathrm{SE}(\\hat{\\theta})$ is the standard deviation of the sampling distribution. It is often called the standard error (SE) and estimated using the sample variance $\\sigma^2_{\\hat{\\theta}}$ as $\\mathrm{SE}(\\hat{\\theta}) = \\sqrt{\\frac{\\sigma^2_{\\hat{\\theta}}}{n}}$.\n",
    "\n",
    "Let's construct a 95\\% confidence interval for the estimate after 100 coin tosses."
   ]
  },
  {
   "cell_type": "code",
   "execution_count": 4,
   "id": "b9a4d5e0-9213-468e-8a73-b2c4a9ddb4ea",
   "metadata": {},
   "outputs": [
    {
     "data": {
      "text/plain": [
       "1.959963984540054"
      ]
     },
     "execution_count": 4,
     "metadata": {},
     "output_type": "execute_result"
    }
   ],
   "source": [
    "from scipy.stats import norm\n",
    "\n",
    "z = norm.ppf(1 - 0.05/2)\n",
    "z"
   ]
  },
  {
   "cell_type": "code",
   "execution_count": 5,
   "id": "43d35a7a-0aa0-42d6-a50d-6dd3c8f77105",
   "metadata": {},
   "outputs": [
    {
     "data": {
      "text/plain": [
       "0.58"
      ]
     },
     "execution_count": 5,
     "metadata": {},
     "output_type": "execute_result"
    }
   ],
   "source": [
    "theta_hat = np.mean(tosses)\n",
    "theta_hat"
   ]
  },
  {
   "cell_type": "code",
   "execution_count": 6,
   "id": "3377c441-7aa1-406e-93b8-3886c2235aca",
   "metadata": {},
   "outputs": [
    {
     "data": {
      "text/plain": [
       "0.04935585071701227"
      ]
     },
     "execution_count": 6,
     "metadata": {},
     "output_type": "execute_result"
    }
   ],
   "source": [
    "se = np.sqrt(np.var(tosses) / n)\n",
    "se"
   ]
  },
  {
   "cell_type": "code",
   "execution_count": 7,
   "id": "35efe3bd-1ecd-453a-bd6d-c45d7fde07af",
   "metadata": {},
   "outputs": [
    {
     "data": {
      "text/plain": [
       "[0.4832643101683205, 0.6767356898316794]"
      ]
     },
     "execution_count": 7,
     "metadata": {},
     "output_type": "execute_result"
    }
   ],
   "source": [
    "CI = [theta_hat - z * se, theta_hat + z * se]\n",
    "CI"
   ]
  },
  {
   "cell_type": "markdown",
   "id": "6d541c81-3247-4d9b-a0af-b9a8f999c3e6",
   "metadata": {},
   "source": [
    "The confidence interval covers .5 and we cannot conclude that the coin is not fair. Note that we would need to do also a t-test to get a definite answer. Let's look at the distribution for the confidence interval."
   ]
  },
  {
   "cell_type": "code",
   "execution_count": 8,
   "id": "22de3800-5d17-4f5e-86dc-df98b82d97b7",
   "metadata": {},
   "outputs": [
    {
     "data": {
      "image/png": "[encoded data removed]",
      "text/plain": [
       "<Figure size 432x288 with 1 Axes>"
      ]
     },
     "metadata": {},
     "output_type": "display_data"
    }
   ],
   "source": [
    "ps = np.arange(0, 1, step=0.01)\n",
    "ls = [norm.pdf(p, loc = theta_hat, scale = se) for p in ps]\n",
    "plt.plot(ps, ls, label=\"Likelihood\")\n",
    "plt.xlabel(\"$\\\\theta$\")\n",
    "plt.ylabel(\"Density\")\n",
    "plt.axvline(x=0.5, color='r', linestyle=\"--\", label=\"Fair Coin\")\n",
    "plt.axvspan(CI[0], CI[1], color='b', alpha=.2, label=\"95% CI\")\n",
    "plt.legend()\n",
    "plt.show()"
   ]
  },
  {
   "cell_type": "markdown",
   "id": "6539e128-df14-4ddd-9b69-9f05aec8f934",
   "metadata": {},
   "source": [
    "Interpretation: If we perform many experiments of 100 coin tosses using a coin with the estimated parameter, then 95% of the experiments will result in parameter estimates between the two gray lines (the 95% confidence interval) including a parameter 0f .5. We can approximately reverse the argument saying that a fair coin may produce the observed parameter. If the confidence interval overlaps, then we would need to do a statistical test to determine statistical significance.  "
   ]
  },
  {
   "cell_type": "markdown",
   "id": "ef757659-44da-4d49-b7aa-495a674ebe6c",
   "metadata": {},
   "source": [
    "We can ese `scipy` to calculate the normal approximation CI by calculating the 95% interval for the normal distribution with the location of the sample mean and the standard error estimate (`st.sem()`). "
   ]
  },
  {
   "cell_type": "code",
   "execution_count": 9,
   "id": "1cea5c78-fd40-4267-9375-aaf5888fd4ec",
   "metadata": {},
   "outputs": [
    {
     "data": {
      "text/plain": [
       "(0.4832643101683205, 0.6767356898316794)"
      ]
     },
     "execution_count": 9,
     "metadata": {},
     "output_type": "execute_result"
    }
   ],
   "source": [
    "import scipy.stats as st\n",
    "\n",
    "st.norm.interval(alpha=0.95, loc=np.mean(tosses), scale=st.sem(tosses, ddof = 0))"
   ]
  },
  {
   "cell_type": "markdown",
   "id": "74624f60-10e3-49e0-be6e-f55a95e7df9f",
   "metadata": {},
   "source": [
    "We can now add the confidence to the frequentist estimate after each coin toss. We see that it is initially very large and then gets reduced once we observe more data."
   ]
  },
  {
   "cell_type": "code",
   "execution_count": 10,
   "id": "7afd066f-4e11-478d-be3d-1f1831873a00",
   "metadata": {},
   "outputs": [
    {
     "name": "stderr",
     "output_type": "stream",
     "text": [
      "/opt/conda/lib/python3.9/site-packages/scipy/stats/_distn_infrastructure.py:2128: RuntimeWarning: invalid value encountered in multiply\n",
      "  lower_bound = _a * scale + loc\n",
      "/opt/conda/lib/python3.9/site-packages/scipy/stats/_distn_infrastructure.py:2129: RuntimeWarning: invalid value encountered in multiply\n",
      "  upper_bound = _b * scale + loc\n"
     ]
    },
    {
     "data": {
      "image/png": "[encoded data removed]",
      "text/plain": [
       "<Figure size 432x288 with 1 Axes>"
      ]
     },
     "metadata": {},
     "output_type": "display_data"
    }
   ],
   "source": [
    "ns = np.arange(1, n)\n",
    "thetas = [np.mean(tosses[:i]) for i in ns]\n",
    "CI = [st.norm.interval(alpha=0.95, loc=np.mean(tosses[:i]), scale=st.sem(tosses[:i], ddof = 0)) for i in ns]\n",
    "CI = list(zip(*CI))\n",
    "\n",
    "plt.plot(ns, thetas, label=\"Estimate $\\\\hat{\\\\theta}$\")\n",
    "plt.fill_between(ns, CI[0], CI[1], color='b', alpha=.2, label=\"95% CI\")\n",
    "plt.axhline(y=0.5, color='r', linestyle=\"--\", label=\"Fair Coin\")\n",
    "plt.xlabel(\"Number of tosses\")\n",
    "plt.ylabel(\"$\\\\theta$\")\n",
    "plt.ylim([0, 1])\n",
    "plt.legend()\n",
    "plt.show()"
   ]
  },
  {
   "cell_type": "markdown",
   "id": "c7601019-9ea6-4c51-88d0-10a4e9c4667b",
   "metadata": {},
   "source": [
    "Note: The used normal approximation will be relatively unbiased for $n>30$ trials. Often, the standard error is estimated by using the unbiased estimate for the variance \n",
    "$\\frac{1}{n+1} \\sum x$ (`st.sem` with 1 degree of freedom) and a t-distribution with number of trials - 1 degrees of freedom (which approaches a normal as the fegrees of freedom increase) is used. In Python this can be calculated with:"
   ]
  },
  {
   "cell_type": "code",
   "execution_count": 11,
   "id": "643c6855-c90a-48b8-84f5-46853840968c",
   "metadata": {},
   "outputs": [
    {
     "data": {
      "text/plain": [
       "(0.4815739174219005, 0.6784260825780994)"
      ]
     },
     "execution_count": 11,
     "metadata": {},
     "output_type": "execute_result"
    }
   ],
   "source": [
    "st.t.interval(alpha=0.95, df = len(tosses)-1,loc=np.mean(tosses), scale=st.sem(tosses, ddof = 1))"
   ]
  },
  {
   "cell_type": "markdown",
   "id": "f2a19320-cf97-41da-8e9c-42fb703961a4",
   "metadata": {},
   "source": [
    "### Additive Smoothing for Counts\n",
    "\n",
    "[Additive smoothing](https://en.wikipedia.org/wiki/Additive_smoothing) (also called Laplace smoothing) can be used to address issues with estimating probabilities with low counts or counts of zero. The smoothed estimator is for a probability of heads is\n",
    "\n",
    "$$\\hat{P}(H) = \\hat{\\theta} = \\frac{n_H + \\alpha}{n + 2\\alpha}$$\n",
    "\n",
    "$\\alpha > 0$ is the smoothing parameter (sometimes called the pseudocount). Note that this can be seen as uninformed prior (Beta distribution with both parameters set to $\\alpha$) as described in Bayesian inference below. Often $\\alpha = 1$ is used."
   ]
  },
  {
   "cell_type": "code",
   "execution_count": 12,
   "id": "259cf062-9f9b-4d2b-891b-d493b70b9ad7",
   "metadata": {},
   "outputs": [
    {
     "data": {
      "image/png": "[encoded data removed]",
      "text/plain": [
       "<Figure size 432x288 with 1 Axes>"
      ]
     },
     "metadata": {},
     "output_type": "display_data"
    }
   ],
   "source": [
    "ns = np.arange(0, n)\n",
    "thetas = [(np.sum(tosses[:i])+1)/(i+2) for i in ns]\n",
    "plt.plot(ns, thetas, label=\"Estimate $\\\\hat{\\\\theta}$\")\n",
    "plt.xlabel(\"Number of tosses\")\n",
    "plt.ylabel(\"$\\\\theta$\")\n",
    "plt.ylim([0, 1])\n",
    "plt.axhline(y=0.5, color='r', linestyle=\"--\", label=\"Fair Coin\")\n",
    "plt.legend()\n",
    "plt.show()"
   ]
  },
  {
   "cell_type": "markdown",
   "id": "e984ad22-7210-4874-9ed0-a66b7a4e6aa0",
   "metadata": {},
   "source": [
    "Note that we can now start with $n = 0$ tosses and get for $n_H = 0$ an estimate of $1/2 = .5$. "
   ]
  },
  {
   "cell_type": "markdown",
   "id": "b3a55dcc-5521-4dcd-a94b-c13bcfdc6d6c",
   "metadata": {},
   "source": [
    "## Bayesian Inference\n",
    "\n",
    "Probability is a measure of believability or confidence that an individual has about the occurance of a particular event. The belief is updated \n",
    "with new evidence using Bayes rule:\n",
    "\n",
    "$$P(\\theta|D) = \\frac{P(D|\\theta) \\; P(\\theta)}{P(D)}$$\n",
    "\n",
    "We call:\n",
    "* $D$ the evidence and $P(D)$ is the unconditional probability of the evidence.\n",
    "* $P(\\theta)$ is the prior. This is the strength in our belief of without considering the evidence.\n",
    "* $P(D|\\theta)$ is the likelihood. This is the probability of seeing the data $D$ as generated by a model with parameter $\\theta$.\n",
    "* $P(\\theta|D)$ is the posterior. This is our belief after taking evidence $D$ into account. \n",
    "\n",
    "A short introduction can be found [here](https://www.thomasjpfan.com/2015/09/bayesian-coin-flips/)."
   ]
  },
  {
   "cell_type": "markdown",
   "id": "b2beb719-5c4b-4b0c-b128-8e1398711b9a",
   "metadata": {},
   "source": [
    "### Likelihood\n",
    "\n",
    "The evidence $D$ for coin tosses is how many heads and tails we get, denoted as $n_H$ and $n_T$, out for $n = n_H + n_T$ tries. Since each coin toss is an independent Bernoulli trial,\n",
    "the number of heads follows a [Binomial distribution](https://en.wikipedia.org/wiki/Binomial_distribution) and we can define the \n",
    "likelihood (probability of seeing $D$ given the parameter $\\theta$) as:\n",
    "\n",
    "$$\n",
    "P(D|\\theta) = P(n_H, n | \\theta) = {n \\choose n_H} \\theta^{n_H} (1 - \\theta)^{n_T}\n",
    "$$"
   ]
  },
  {
   "cell_type": "markdown",
   "id": "7fe8e13e-3222-4300-b649-708aa5426687",
   "metadata": {},
   "source": [
    "### Prior belief\n",
    "\n",
    "Note that the prior belief is not just a single parameter $\\theta$, but it is a distribution over possible values of the parameter space giving different values of $\\theta$ a probability $P(\\theta)$. \n",
    "An uniformed prior would be a uniform distribution for $\\theta$ in the interval $[0,1]$. For Bayesian update, it is convenient to\n",
    "use a prior distribution with the special property that multiplying it with the defined likelihood function \n",
    "provides a posterior distribution that is of the same family as the prior distribution. Such a prior distribution is called a conjugate prior\n",
    "which leads to a closed-form expression for the posterior.\n",
    "\n",
    "The conjugate prior for the above likelihood is the [Beta distribution](https://en.wikipedia.org/wiki/Beta_distribution). The Beta distribution has the two parameters $\\alpha > 0$ and $\\beta > 0$.\n",
    "\n",
    "$$P(\\theta) = \\frac{1}{B(\\alpha, \\beta)} \\theta^{\\alpha - 1} (1 - \\theta)^{\\beta - 1}$$\n",
    "\n",
    "\n",
    "$B(\\alpha, \\beta)$ is called the Beta function and produces a scaling factor calculated using gamma distributions.\n",
    "\n",
    "The beta distribution is very flexible."
   ]
  },
  {
   "cell_type": "code",
   "execution_count": null,
   "id": "a8d8683f-601a-4835-91dd-bfae7fc3ab59",
   "metadata": {},
   "outputs": [],
   "source": [
    "from scipy.stats import beta\n",
    "\n",
    "x = np.linspace(0, 1, 100)\n",
    "params = [\n",
    "        (0.5, 0.5),\n",
    "        (1, 1),\n",
    "        (4, 3),\n",
    "        (2, 5),\n",
    "        (6, 6)\n",
    "]\n",
    "for p in params:\n",
    "    y = beta.pdf(x, p[0], p[1])\n",
    "    plt.plot(x, y, label=\"$\\\\alpha=%s$, $\\\\beta=%s$\" % p)\n",
    "plt.xlabel(\"$\\\\theta$\")\n",
    "plt.ylabel(\"Density (Beta distribution)\")\n",
    "plt.legend(title=\"Parameters\")\n",
    "plt.show()"
   ]
  },
  {
   "cell_type": "markdown",
   "id": "cbc29a31-e3d2-4060-9828-73e8e478c9ef",
   "metadata": {},
   "source": [
    "The expectation of a random variable $X \\sim \\mathrm{Beta}(\\alpha, \\beta)$ is given by (see [Beta distribution](https://en.wikipedia.org/wiki/Beta_distribution)):\n",
    "\n",
    "$$E(X) = \\frac{\\alpha}{\\alpha + \\beta} $$"
   ]
  },
  {
   "cell_type": "markdown",
   "id": "bff1c1e1-4e32-4cfc-8e43-821c6b86eb05",
   "metadata": {},
   "source": [
    "### Probability of the Evidence\n",
    "\n",
    "Since we know the distribution of the prior and the probability of the evidence given a prior, we can calculate the probability of the evidence with integration. The integration is easy because the \n",
    "chosen beta prior distribution is the conjugate prior to the binomial likelihood.  \n",
    "\n",
    "$$P(D) = \\int_0^1 P(D|\\theta)P(\\theta)\\; d\\theta = {n \\choose n_H} \\frac{B(n_H + \\alpha, n_T + \\beta)}{B(\\alpha, \\beta)}$$"
   ]
  },
  {
   "cell_type": "markdown",
   "id": "71f33425-86af-4a8f-be98-f6a1fbbdfe1c",
   "metadata": {},
   "source": [
    "### Posterior distribution\n",
    "\n",
    "$$P(\\theta|D) = \\frac{P(D|\\theta) \\; P(\\theta)}{P(D)} \n",
    "= \\frac{\\theta^{n_H} (1 - \\theta)^{n_T} \\theta^{\\alpha - 1}\\; (1 - \\theta)^{\\beta - 1} }{B(n_H + \\alpha, n_T + \\beta)}  \n",
    "= \\frac{1}{B(n_H + \\alpha, n_T + \\beta)}  \\theta^{n_H + \\alpha -1} (1 - \\theta)^{n_T + \\beta -1} \n",
    "$$\n",
    "\n",
    "Which is again a beta distribution $P(\\theta|D) \\sim \\mathrm{Beta}(n_H + \\alpha, n_T + \\beta)$.\n",
    "\n",
    "The expectation of the posterior distribution is the estimate for the probability:\n",
    "\n",
    "$$\\hat{P}(H) = E(P(\\theta|D)) = \\frac{n_H + \\alpha}{n_H + \\alpha + n_T + \\beta} = \\frac{n_H + \\alpha}{n + \\alpha + \\beta}$$"
   ]
  },
  {
   "cell_type": "markdown",
   "id": "fdd16ef8-26d2-4741-a0d8-53d2be76ccc0",
   "metadata": {},
   "source": [
    "### Example data\n",
    "\n",
    "Start with an uninformed prior and calculate the expected value. "
   ]
  },
  {
   "cell_type": "code",
   "execution_count": null,
   "id": "6aff863d-325e-4b6c-ae78-e0e15d216d97",
   "metadata": {},
   "outputs": [],
   "source": [
    "alpha_prior = 1\n",
    "beta_prior = 1\n",
    "\n",
    "alpha_prior / (alpha_prior + beta_prior)"
   ]
  },
  {
   "cell_type": "markdown",
   "id": "05f1a0d8-5f24-4974-bc74-39138eee0144",
   "metadata": {},
   "source": [
    "Update the belief with the observed coin tosses and calculate the new expected value."
   ]
  },
  {
   "cell_type": "code",
   "execution_count": null,
   "id": "46db1d71-4f72-478a-bfc5-50723fe348c2",
   "metadata": {},
   "outputs": [],
   "source": [
    "alpha_prior = 1\n",
    "beta_prior = 1\n",
    "\n",
    "n_H = np.sum(tosses)\n",
    "n_T = n-n_H\n",
    "\n",
    "alpha_posterior = n_H + alpha_prior\n",
    "beta_posterior = n_T + beta_prior\n",
    "\n",
    "alpha_posterior / (alpha_posterior + beta_posterior)"
   ]
  },
  {
   "cell_type": "markdown",
   "id": "22a662d8-0cc8-43df-9781-b0af1739df86",
   "metadata": {},
   "source": [
    "Plot the posterior and the credible interval. The [credible interval](https://en.wikipedia.org/wiki/Credible_interval) is a Bayesian equivalent to the frequentist confidence interval and is computed using the posterior distribution."
   ]
  },
  {
   "cell_type": "code",
   "execution_count": null,
   "id": "519376ea-cdd2-415f-a4ae-4ff2da88813a",
   "metadata": {},
   "outputs": [],
   "source": [
    "CredI = st.beta.interval(.95, alpha_posterior, beta_posterior)\n",
    "CredI"
   ]
  },
  {
   "cell_type": "code",
   "execution_count": null,
   "id": "03e36789-b8e8-4d5e-bf20-6a6f141dc929",
   "metadata": {},
   "outputs": [],
   "source": [
    "x = np.linspace(0, 1, 100)\n",
    "plt.plot(x, beta.pdf(x, alpha_prior, beta_prior), label = \"Prior\")\n",
    "plt.plot(x, beta.pdf(x, alpha_posterior, beta_posterior), label = \"Posterior\")\n",
    "plt.ylabel(\"Density\")\n",
    "plt.xlabel(\"$\\\\theta$\")\n",
    "plt.axvline(x=0.5, color='r', linestyle=\"--\", label=\"Fair Coin\")\n",
    "plt.axvspan(CredI[0], CredI[1], color='b', alpha=.2, label=\"95% Cred. Int.\")\n",
    "plt.legend()\n",
    "plt.show()"
   ]
  },
  {
   "cell_type": "markdown",
   "id": "ce474dc5-d97f-45f9-bd07-cd2d0acf38e5",
   "metadata": {},
   "source": [
    "Plot the development of the expected value of the posterior distribution after each additional coin toss using two different priors, an uninformed prior with $\\mathrm{Beta(1, 1)}$, a prior belief that the coin is most likely fair $\\mathrm{Beta(6, 6)}$, and a prior belief that the coin is most likely unfair biased towards heads $\\mathrm{Beta(4, 1)}$."
   ]
  },
  {
   "cell_type": "code",
   "execution_count": null,
   "id": "5a58b549-3deb-40a8-ba13-b3d8b314ce0c",
   "metadata": {},
   "outputs": [],
   "source": [
    "def show_estimates(tosses, title = \"Uninformed Prior\", alpha_prior = 1, beta_prior = 1):\n",
    "    n = len(tosses)\n",
    "    \n",
    "    x = np.linspace(0, 1, 100)\n",
    "    y = beta.pdf(x, alpha_prior, beta_prior)\n",
    "    plt.plot(x, y, label=f\"$\\\\alpha={alpha_prior}$, $\\\\beta={beta_prior}$\")\n",
    "    plt.xlabel(\"$\\\\theta$\")\n",
    "    plt.ylabel(\"Density (Beta distribution)\")\n",
    "    plt.legend(title=\"Parameters\")\n",
    "    plt.title(title)\n",
    "    plt.show()\n",
    "    \n",
    "    ns = np.arange(0, n)\n",
    "    alphas = [np.sum(tosses[:i]) for i in ns]\n",
    "    betas = [np.subtract(i, np.sum(tosses[:i])) for i in ns]\n",
    "    alphas = np.add(alphas, alpha_prior) \n",
    "    betas = np.add(betas, + beta_prior)\n",
    "    expectations = alphas / (alphas + betas)\n",
    "    CredI = st.beta.interval(.95, alphas, betas)\n",
    "\n",
    "    plt.plot(ns, expectations, label = \"Estimate $\\hat{\\\\theta}$\")\n",
    "    plt.fill_between(ns, CredI[0], CredI[1], color='b', alpha=.2, label=\"95% Cred.Int.\")\n",
    "    plt.axhline(y=0.5, color='r', linestyle='--', label=\"Fair Coin\")\n",
    "    plt.xlabel(\"Number of tosses\")\n",
    "    plt.ylabel(\"$\\\\theta$\")\n",
    "    plt.ylim([0, 1])\n",
    "    plt.legend()\n",
    "    plt.show()"
   ]
  },
  {
   "cell_type": "code",
   "execution_count": null,
   "id": "15d261e6-4814-45d6-a543-51a2380cafad",
   "metadata": {},
   "outputs": [],
   "source": [
    "show_estimates(tosses, title = \"Uninformed Prior\", alpha_prior = 1, beta_prior = 1)"
   ]
  },
  {
   "cell_type": "code",
   "execution_count": null,
   "id": "07ed2839-2f2e-407c-a783-b7f99c355152",
   "metadata": {},
   "outputs": [],
   "source": [
    "show_estimates(tosses, title = \"Prior (likely a fair coin)\", alpha_prior = 6, beta_prior = 6)"
   ]
  },
  {
   "cell_type": "code",
   "execution_count": null,
   "id": "00878e74-cb5f-4656-b999-8c692d11cb08",
   "metadata": {},
   "outputs": [],
   "source": [
    "show_estimates(tosses, title = \"Prior biased toward heads\", alpha_prior = 4, beta_prior = 1)"
   ]
  },
  {
   "cell_type": "markdown",
   "id": "14cfcde7-e46d-414c-a1df-f4ff69d1dafd",
   "metadata": {},
   "source": [
    "If we start with $\\alpha = 0$ and $\\beta = 0$, which is not a valid Beta distribution, then we get an estimator that is very similar to the frequentist estimate. "
   ]
  },
  {
   "cell_type": "code",
   "execution_count": null,
   "id": "5ac96952-8591-450b-9b45-04ff72d5231c",
   "metadata": {},
   "outputs": [],
   "source": [
    "show_estimates(tosses, title = \"No Prior (similar to frequentist estimate)\", alpha_prior = 0, beta_prior = 0)"
   ]
  }
 ],
 "metadata": {
  "kernelspec": {
   "display_name": "Python 3 (ipykernel)",
   "language": "python",
   "name": "python3"
  },
  "language_info": {
   "codemirror_mode": {
    "name": "ipython",
    "version": 3
   },
   "file_extension": ".py",
   "mimetype": "text/x-python",
   "name": "python",
   "nbconvert_exporter": "python",
   "pygments_lexer": "ipython3",
   "version": "3.9.5"
  }
 },
 "nbformat": 4,
 "nbformat_minor": 5
}
