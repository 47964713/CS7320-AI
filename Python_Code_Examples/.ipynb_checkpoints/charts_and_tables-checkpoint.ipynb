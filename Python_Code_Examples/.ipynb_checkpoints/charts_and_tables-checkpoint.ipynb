{
 "cells": [
  {
   "cell_type": "markdown",
   "metadata": {},
   "source": [
    "# Charts and Tables\n",
    "\n",
    "`matplotlib` can be used to create simple charts (histograms, line charts, etc.). See: https://matplotlib.org/\n",
    "\n",
    "`pandas` can be used for data frames (tables).\n",
    "\n",
    "## Create some data"
   ]
  },
  {
   "cell_type": "code",
   "execution_count": 14,
   "metadata": {
    "scrolled": false
   },
   "outputs": [
    {
     "data": {
      "text/html": [
       "<div>\n",
       "<style scoped>\n",
       "    .dataframe tbody tr th:only-of-type {\n",
       "        vertical-align: middle;\n",
       "    }\n",
       "\n",
       "    .dataframe tbody tr th {\n",
       "        vertical-align: top;\n",
       "    }\n",
       "\n",
       "    .dataframe thead th {\n",
       "        text-align: right;\n",
       "    }\n",
       "</style>\n",
       "<table border=\"1\" class=\"dataframe\">\n",
       "  <thead>\n",
       "    <tr style=\"text-align: right;\">\n",
       "      <th></th>\n",
       "      <th>agent 1</th>\n",
       "      <th>agent 2</th>\n",
       "      <th>agent 3</th>\n",
       "    </tr>\n",
       "  </thead>\n",
       "  <tbody>\n",
       "    <tr>\n",
       "      <th>0</th>\n",
       "      <td>7.686838</td>\n",
       "      <td>-0.208449</td>\n",
       "      <td>-5.073132</td>\n",
       "    </tr>\n",
       "    <tr>\n",
       "      <th>1</th>\n",
       "      <td>2.757429</td>\n",
       "      <td>24.094865</td>\n",
       "      <td>-11.347416</td>\n",
       "    </tr>\n",
       "    <tr>\n",
       "      <th>2</th>\n",
       "      <td>2.332488</td>\n",
       "      <td>-9.159133</td>\n",
       "      <td>-1.333414</td>\n",
       "    </tr>\n",
       "    <tr>\n",
       "      <th>3</th>\n",
       "      <td>-2.441832</td>\n",
       "      <td>-4.348795</td>\n",
       "      <td>6.597443</td>\n",
       "    </tr>\n",
       "    <tr>\n",
       "      <th>4</th>\n",
       "      <td>-10.817182</td>\n",
       "      <td>1.442428</td>\n",
       "      <td>1.032119</td>\n",
       "    </tr>\n",
       "    <tr>\n",
       "      <th>...</th>\n",
       "      <td>...</td>\n",
       "      <td>...</td>\n",
       "      <td>...</td>\n",
       "    </tr>\n",
       "    <tr>\n",
       "      <th>95</th>\n",
       "      <td>93.389275</td>\n",
       "      <td>339.790844</td>\n",
       "      <td>43.817465</td>\n",
       "    </tr>\n",
       "    <tr>\n",
       "      <th>96</th>\n",
       "      <td>95.420885</td>\n",
       "      <td>375.942381</td>\n",
       "      <td>54.819710</td>\n",
       "    </tr>\n",
       "    <tr>\n",
       "      <th>97</th>\n",
       "      <td>79.149275</td>\n",
       "      <td>364.615356</td>\n",
       "      <td>61.856120</td>\n",
       "    </tr>\n",
       "    <tr>\n",
       "      <th>98</th>\n",
       "      <td>100.886434</td>\n",
       "      <td>373.606775</td>\n",
       "      <td>66.231680</td>\n",
       "    </tr>\n",
       "    <tr>\n",
       "      <th>99</th>\n",
       "      <td>79.928116</td>\n",
       "      <td>369.944707</td>\n",
       "      <td>44.528290</td>\n",
       "    </tr>\n",
       "  </tbody>\n",
       "</table>\n",
       "<p>100 rows × 3 columns</p>\n",
       "</div>"
      ],
      "text/plain": [
       "       agent 1     agent 2    agent 3\n",
       "0     7.686838   -0.208449  -5.073132\n",
       "1     2.757429   24.094865 -11.347416\n",
       "2     2.332488   -9.159133  -1.333414\n",
       "3    -2.441832   -4.348795   6.597443\n",
       "4   -10.817182    1.442428   1.032119\n",
       "..         ...         ...        ...\n",
       "95   93.389275  339.790844  43.817465\n",
       "96   95.420885  375.942381  54.819710\n",
       "97   79.149275  364.615356  61.856120\n",
       "98  100.886434  373.606775  66.231680\n",
       "99   79.928116  369.944707  44.528290\n",
       "\n",
       "[100 rows x 3 columns]"
      ]
     },
     "execution_count": 14,
     "metadata": {},
     "output_type": "execute_result"
    }
   ],
   "source": [
    "import numpy as np  \n",
    "import pandas as pd\n",
    "\n",
    "# create some artificial performance data for 3 agents and 100 runs of a O(n^2) algorithm \n",
    "# create data for problem size n = 1 .. 100.\n",
    "n_max = 100\n",
    "runtime = {\n",
    "    \"agent 1\" : np.add(np.power(np.divide(range(n_max), 10), 2), np.random.normal(loc = 0, scale = 10, size = n_max)),\n",
    "    \"agent 2\" : np.add(np.power(np.divide(range(n_max),  5), 2), np.random.normal(loc = 0 , scale = 10, size = n_max)),\n",
    "    \"agent 3\" : np.add(np.power(np.divide(range(n_max), 12), 2), np.random.normal(loc = 0 , scale = 10, size = n_max))\n",
    "}\n",
    "\n",
    "# show data as a data frame using pandas\n",
    "df = pd.DataFrame(runtime)\n",
    "df"
   ]
  },
  {
   "cell_type": "code",
   "execution_count": 15,
   "metadata": {},
   "outputs": [
    {
     "data": {
      "text/html": [
       "<div>\n",
       "<style scoped>\n",
       "    .dataframe tbody tr th:only-of-type {\n",
       "        vertical-align: middle;\n",
       "    }\n",
       "\n",
       "    .dataframe tbody tr th {\n",
       "        vertical-align: top;\n",
       "    }\n",
       "\n",
       "    .dataframe thead th {\n",
       "        text-align: right;\n",
       "    }\n",
       "</style>\n",
       "<table border=\"1\" class=\"dataframe\">\n",
       "  <thead>\n",
       "    <tr style=\"text-align: right;\">\n",
       "      <th></th>\n",
       "      <th>agent 1</th>\n",
       "      <th>agent 2</th>\n",
       "      <th>agent 3</th>\n",
       "    </tr>\n",
       "  </thead>\n",
       "  <tbody>\n",
       "    <tr>\n",
       "      <th>0</th>\n",
       "      <td>106.913531</td>\n",
       "      <td>134.745232</td>\n",
       "      <td>70.636658</td>\n",
       "    </tr>\n",
       "    <tr>\n",
       "      <th>1</th>\n",
       "      <td>100.006344</td>\n",
       "      <td>111.869392</td>\n",
       "      <td>78.685910</td>\n",
       "    </tr>\n",
       "    <tr>\n",
       "      <th>2</th>\n",
       "      <td>90.149759</td>\n",
       "      <td>103.947005</td>\n",
       "      <td>69.223975</td>\n",
       "    </tr>\n",
       "    <tr>\n",
       "      <th>3</th>\n",
       "      <td>92.871434</td>\n",
       "      <td>87.630434</td>\n",
       "      <td>69.837415</td>\n",
       "    </tr>\n",
       "    <tr>\n",
       "      <th>4</th>\n",
       "      <td>88.112544</td>\n",
       "      <td>124.480795</td>\n",
       "      <td>74.894794</td>\n",
       "    </tr>\n",
       "    <tr>\n",
       "      <th>...</th>\n",
       "      <td>...</td>\n",
       "      <td>...</td>\n",
       "      <td>...</td>\n",
       "    </tr>\n",
       "    <tr>\n",
       "      <th>95</th>\n",
       "      <td>119.549680</td>\n",
       "      <td>116.728833</td>\n",
       "      <td>67.650337</td>\n",
       "    </tr>\n",
       "    <tr>\n",
       "      <th>96</th>\n",
       "      <td>101.739458</td>\n",
       "      <td>102.855068</td>\n",
       "      <td>64.274676</td>\n",
       "    </tr>\n",
       "    <tr>\n",
       "      <th>97</th>\n",
       "      <td>101.864810</td>\n",
       "      <td>99.756805</td>\n",
       "      <td>72.806767</td>\n",
       "    </tr>\n",
       "    <tr>\n",
       "      <th>98</th>\n",
       "      <td>111.976890</td>\n",
       "      <td>105.102423</td>\n",
       "      <td>72.357701</td>\n",
       "    </tr>\n",
       "    <tr>\n",
       "      <th>99</th>\n",
       "      <td>88.883564</td>\n",
       "      <td>112.660388</td>\n",
       "      <td>69.256425</td>\n",
       "    </tr>\n",
       "  </tbody>\n",
       "</table>\n",
       "<p>100 rows × 3 columns</p>\n",
       "</div>"
      ],
      "text/plain": [
       "       agent 1     agent 2    agent 3\n",
       "0   106.913531  134.745232  70.636658\n",
       "1   100.006344  111.869392  78.685910\n",
       "2    90.149759  103.947005  69.223975\n",
       "3    92.871434   87.630434  69.837415\n",
       "4    88.112544  124.480795  74.894794\n",
       "..         ...         ...        ...\n",
       "95  119.549680  116.728833  67.650337\n",
       "96  101.739458  102.855068  64.274676\n",
       "97  101.864810   99.756805  72.806767\n",
       "98  111.976890  105.102423  72.357701\n",
       "99   88.883564  112.660388  69.256425\n",
       "\n",
       "[100 rows x 3 columns]"
      ]
     },
     "execution_count": 15,
     "metadata": {},
     "output_type": "execute_result"
    }
   ],
   "source": [
    "# create data for n = 10 and N = 100 replications, so we can compare distributions.\n",
    "N = 100\n",
    "performance = {\n",
    "    \"agent 1\" : np.add(100, np.random.normal(loc = 0, scale = 10, size = N)),\n",
    "    \"agent 2\" : np.add(120, np.random.normal(loc = 0, scale = 20, size = N)),\n",
    "    \"agent 3\" : np.add(70,  np.random.normal(loc = 0, scale =  5, size = N))\n",
    "}\n",
    "\n",
    "# show data as a data frame using pandas\n",
    "df = pd.DataFrame(performance)\n",
    "df"
   ]
  },
  {
   "cell_type": "markdown",
   "metadata": {},
   "source": [
    "## Charts \n",
    "\n",
    "### Line plot\n",
    "\n",
    "Plot run time as a function of problem size $n = 1, ..., $"
   ]
  },
  {
   "cell_type": "code",
   "execution_count": 16,
   "metadata": {},
   "outputs": [],
   "source": [
    "import matplotlib.pyplot as plt\n",
    "\n",
    "# add a grid to the plots\n",
    "import seaborn as sns \n",
    "sns.set(style=\"whitegrid\")"
   ]
  },
  {
   "cell_type": "code",
   "execution_count": 17,
   "metadata": {},
   "outputs": [
    {
     "data": {
      "image/png": "[encoded data removed]",
      "text/plain": [
       "<Figure size 432x288 with 1 Axes>"
      ]
     },
     "metadata": {},
     "output_type": "display_data"
    }
   ],
   "source": [
    "x = range(N)\n",
    "plt.plot(x, runtime[\"agent 1\"], label = \"agent1\") \n",
    "plt.plot(x, runtime[\"agent 2\"], label = \"agent2\") \n",
    "plt.plot(x, runtime[\"agent 3\"], label = \"agent3\") \n",
    "plt.xlabel(\"Problem size\")\n",
    "plt.ylabel(\"Run time in seconds\")\n",
    "plt.legend()\n",
    "plt.show()"
   ]
  },
  {
   "cell_type": "markdown",
   "metadata": {},
   "source": [
    "### Scatter plot\n",
    "\n",
    "Compare $N$ runs of a fixed problem size of $n=10$."
   ]
  },
  {
   "cell_type": "code",
   "execution_count": 18,
   "metadata": {
    "scrolled": true
   },
   "outputs": [
    {
     "data": {
      "image/png": "[encoded data removed]",
      "text/plain": [
       "<Figure size 432x288 with 1 Axes>"
      ]
     },
     "metadata": {},
     "output_type": "display_data"
    }
   ],
   "source": [
    "plt.scatter(performance[\"agent 1\"], performance[\"agent 2\"]) \n",
    "plt.xlabel(\"performance agent 1\")\n",
    "plt.ylabel(\"performance agent 2\")\n",
    "plt.show()"
   ]
  },
  {
   "cell_type": "markdown",
   "metadata": {},
   "source": [
    "### Bar plot\n",
    "\n",
    "Compare the average performance performance."
   ]
  },
  {
   "cell_type": "code",
   "execution_count": 19,
   "metadata": {},
   "outputs": [
    {
     "name": "stdout",
     "output_type": "stream",
     "text": [
      "Mean performance: [ 99.44827576 118.33957856  70.05471229]\n"
     ]
    },
    {
     "data": {
      "image/png": "[encoded data removed]",
      "text/plain": [
       "<Figure size 432x288 with 1 Axes>"
      ]
     },
     "metadata": {},
     "output_type": "display_data"
    }
   ],
   "source": [
    "mean_performance = np.mean(list(performance.values()), axis = 1)\n",
    "\n",
    "print(f\"Mean performance: {mean_performance}\")\n",
    "\n",
    "plt.bar(performance.keys(), mean_performance)\n",
    "plt.ylabel(\"mean performance\")\n",
    "plt.show()"
   ]
  },
  {
   "cell_type": "markdown",
   "metadata": {},
   "source": [
    "### Histogram\n",
    "\n",
    "Show the distribution of the performance."
   ]
  },
  {
   "cell_type": "code",
   "execution_count": 20,
   "metadata": {},
   "outputs": [
    {
     "data": {
      "image/png": "[encoded data removed]",
      "text/plain": [
       "<Figure size 432x288 with 1 Axes>"
      ]
     },
     "metadata": {},
     "output_type": "display_data"
    }
   ],
   "source": [
    "plt.hist(performance[\"agent 1\"], bins = 20)\n",
    "plt.xlabel(\"performance of agent 1\")\n",
    "plt.ylabel(\"frequency\")\n",
    "plt.show()"
   ]
  },
  {
   "cell_type": "code",
   "execution_count": 21,
   "metadata": {},
   "outputs": [
    {
     "data": {
      "image/png": "[encoded data removed]",
      "text/plain": [
       "<Figure size 432x288 with 1 Axes>"
      ]
     },
     "metadata": {},
     "output_type": "display_data"
    }
   ],
   "source": [
    "plt.hist(performance[\"agent 1\"], bins = 20, alpha = .6)\n",
    "plt.hist(performance[\"agent 2\"], bins = 20, alpha = .6)\n",
    "plt.hist(performance[\"agent 3\"], bins = 20, alpha = .6)\n",
    "plt.xlabel(\"performance\")\n",
    "plt.ylabel(\"frequency\")\n",
    "plt.legend(labels = [\"agent 1\", \"agent 2\", \"agent 3\"])\n",
    "plt.show()"
   ]
  },
  {
   "cell_type": "markdown",
   "metadata": {},
   "source": [
    "### Boxplot\n",
    "\n",
    "To compare distributions."
   ]
  },
  {
   "cell_type": "code",
   "execution_count": 22,
   "metadata": {},
   "outputs": [
    {
     "data": {
      "image/png": "[encoded data removed]",
      "text/plain": [
       "<Figure size 432x288 with 1 Axes>"
      ]
     },
     "metadata": {},
     "output_type": "display_data"
    }
   ],
   "source": [
    "bplot = plt.boxplot(list(performance.values()),\n",
    "                     vert = True,                  # vertical box alignment\n",
    "                     patch_artist = True,          # fill with color\n",
    "                     labels = performance.keys())  # will be used to label x-ticks\n",
    "plt.ylabel(\"performance\")\n",
    "plt.show()"
   ]
  },
  {
   "cell_type": "markdown",
   "metadata": {},
   "source": [
    "## Show Tables\n",
    "\n",
    "Markdown tables can be produced using markdown syntax (see https://www.markdownguide.org/extended-syntax/):\n",
    "\n",
    "```\n",
    "| x   | y    |\n",
    "| --- | ---- |\n",
    "| 1.1 | 12.3 |\n",
    "| 0.8 | 18.0 |\n",
    "```\n",
    "\n",
    "Here is the resulting table\n",
    "\n",
    "| x   | y    |\n",
    "| --- | ---- |\n",
    "| 1.1 | 12.3 |\n",
    "| 0.8 | 18.0 |"
   ]
  },
  {
   "cell_type": "markdown",
   "metadata": {},
   "source": [
    "Tables in code can be printed in several ways. The easiest is to use `pandas` dataframes. Unfortunately, it cannot print custom row names."
   ]
  },
  {
   "cell_type": "code",
   "execution_count": 23,
   "metadata": {},
   "outputs": [
    {
     "name": "stdout",
     "output_type": "stream",
     "text": [
      "[[1 2]\n",
      " [3 4]\n",
      " [5 6]]\n"
     ]
    }
   ],
   "source": [
    "import numpy as np\n",
    "\n",
    "data = np.array([[1, 2], [3 ,4], [5, 6]])\n",
    "\n",
    "print(data)\n",
    "\n"
   ]
  },
  {
   "cell_type": "code",
   "execution_count": 24,
   "metadata": {},
   "outputs": [
    {
     "data": {
      "text/html": [
       "<div>\n",
       "<style scoped>\n",
       "    .dataframe tbody tr th:only-of-type {\n",
       "        vertical-align: middle;\n",
       "    }\n",
       "\n",
       "    .dataframe tbody tr th {\n",
       "        vertical-align: top;\n",
       "    }\n",
       "\n",
       "    .dataframe thead th {\n",
       "        text-align: right;\n",
       "    }\n",
       "</style>\n",
       "<table border=\"1\" class=\"dataframe\">\n",
       "  <thead>\n",
       "    <tr style=\"text-align: right;\">\n",
       "      <th></th>\n",
       "      <th>x</th>\n",
       "      <th>y</th>\n",
       "    </tr>\n",
       "  </thead>\n",
       "  <tbody>\n",
       "    <tr>\n",
       "      <th>0</th>\n",
       "      <td>1</td>\n",
       "      <td>2</td>\n",
       "    </tr>\n",
       "    <tr>\n",
       "      <th>1</th>\n",
       "      <td>3</td>\n",
       "      <td>4</td>\n",
       "    </tr>\n",
       "    <tr>\n",
       "      <th>2</th>\n",
       "      <td>5</td>\n",
       "      <td>6</td>\n",
       "    </tr>\n",
       "  </tbody>\n",
       "</table>\n",
       "</div>"
      ],
      "text/plain": [
       "   x  y\n",
       "0  1  2\n",
       "1  3  4\n",
       "2  5  6"
      ]
     },
     "execution_count": 24,
     "metadata": {},
     "output_type": "execute_result"
    }
   ],
   "source": [
    "import pandas as pd\n",
    "pd.DataFrame(data, columns=[\"x\", \"y\"])"
   ]
  }
 ],
 "metadata": {
  "kernelspec": {
   "display_name": "Python 3",
   "language": "python",
   "name": "python3"
  },
  "language_info": {
   "codemirror_mode": {
    "name": "ipython",
    "version": 3
   },
   "file_extension": ".py",
   "mimetype": "text/x-python",
   "name": "python",
   "nbconvert_exporter": "python",
   "pygments_lexer": "ipython3",
   "version": "3.8.5"
  }
 },
 "nbformat": 4,
 "nbformat_minor": 4
}
